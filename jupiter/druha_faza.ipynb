{
 "cells": [
  {
   "cell_type": "markdown",
   "id": "eed6aa83-9eec-4cd0-ae97-bcb0cbef1214",
   "metadata": {
    "ExecuteTime": {
     "end_time": "2024-10-21T12:40:40.220280Z",
     "start_time": "2024-10-21T12:40:40.217637Z"
    },
    "collapsed": true,
    "jupyter": {
     "outputs_hidden": true
    }
   },
   "source": [
    "Predspracovanie údajov pre strojové učenie"
   ]
  },
  {
   "cell_type": "markdown",
   "id": "86cde31b-b679-4c55-b450-495f4502b31a",
   "metadata": {},
   "source": [
    "    2.1 Realizácia predspracovania dát"
   ]
  },
  {
   "cell_type": "markdown",
   "id": "e2dce29c-4615-4014-861c-d9e4d829d040",
   "metadata": {},
   "source": [
    "        (A-1b) Oddelenie testovacich a trénovacich údajov "
   ]
  },
  {
   "cell_type": "code",
   "execution_count": null,
   "id": "5c0ca89b-81e4-4cad-9201-e8d729632770",
   "metadata": {},
   "outputs": [],
   "source": []
  },
  {
   "cell_type": "markdown",
   "id": "48c93c38-d4ef-44c0-b451-5a426bf16d43",
   "metadata": {},
   "source": [
    "        (B-1b) Transformacia dát na vhodný formát pre ML"
   ]
  },
  {
   "cell_type": "code",
   "execution_count": null,
   "id": "11ef860b-f748-4e1e-8bfa-b0ff8695b780",
   "metadata": {},
   "outputs": [],
   "source": []
  },
  {
   "cell_type": "markdown",
   "id": "badea216-80ea-4fc2-a9e8-093058cab111",
   "metadata": {},
   "source": [
    "        (C-2b) Transformacia atribútov dát pre strojové učenie"
   ]
  },
  {
   "cell_type": "code",
   "execution_count": null,
   "id": "c0f4f6a0-215e-46ae-92b2-514e8d2919b8",
   "metadata": {},
   "outputs": [],
   "source": []
  },
  {
   "cell_type": "markdown",
   "id": "75b583b1-298d-4b54-af48-7ef9bbb70e05",
   "metadata": {},
   "source": [
    "        (D-1b) Všeobecné závery"
   ]
  },
  {
   "cell_type": "code",
   "execution_count": null,
   "id": "79cb2f77-a493-4350-ab07-8d6d59880347",
   "metadata": {},
   "outputs": [],
   "source": []
  },
  {
   "cell_type": "markdown",
   "id": "df8f298d-438e-416a-9ea6-4f52d8a6558d",
   "metadata": {},
   "source": [
    "    2.2 Výber atribútov pre strojové učenie"
   ]
  },
  {
   "cell_type": "markdown",
   "id": "b8755a81-5172-4c4c-ad17-5cf1cf2085cf",
   "metadata": {},
   "source": [
    "        (A-3b) Výpočet informatívnych atribútov pre výpočetanie premennej"
   ]
  },
  {
   "cell_type": "code",
   "execution_count": null,
   "id": "2d4e24cb-2704-4f5a-b74f-6e5195797ea9",
   "metadata": {},
   "outputs": [],
   "source": []
  },
  {
   "cell_type": "markdown",
   "id": "618f99ab-d015-4eea-94a2-bd3c44aea852",
   "metadata": {},
   "source": [
    "        (B-1b) Zoradenie atribútov podľa dôležitosti"
   ]
  },
  {
   "cell_type": "code",
   "execution_count": null,
   "id": "e03874c7-3a9d-470e-916b-336266d5a324",
   "metadata": {},
   "outputs": [],
   "source": []
  },
  {
   "cell_type": "markdown",
   "id": "1da208c4-bede-429f-a31f-fe6635e743fa",
   "metadata": {},
   "source": [
    "        (C-1b) Zdôvodnenie rozhodnuti pre realizáciu "
   ]
  },
  {
   "cell_type": "code",
   "execution_count": null,
   "id": "71527199-4425-4394-8cff-3f9c742252c7",
   "metadata": {},
   "outputs": [],
   "source": []
  },
  {
   "cell_type": "markdown",
   "id": "d0b97417-f85a-4cc4-8f00-b1ce29727639",
   "metadata": {},
   "source": [
    "    2.3  Replikovateľnosť predspracovania"
   ]
  },
  {
   "cell_type": "markdown",
   "id": "62be8314-1f8a-479e-92ef-dccef7843ec0",
   "metadata": {},
   "source": [
    "(A-3b) Upraveny kód realizujúci predspracovanie trénovacej množiny tak, aby ho bolo možné bez ďalších úprav znovu použiť na predspracovanie testovacej množiny v kontexte strojového učenia\n"
   ]
  },
  {
   "cell_type": "code",
   "execution_count": null,
   "id": "5545eb45-6f85-46b7-9b78-11bb547b3c41",
   "metadata": {},
   "outputs": [],
   "source": []
  },
  {
   "cell_type": "markdown",
   "id": "3c24484a-e528-4fa7-94a9-9457fdcce1c0",
   "metadata": {},
   "source": [
    "(B-2b) Využitee možnosti sklearn.pipeline"
   ]
  },
  {
   "cell_type": "code",
   "execution_count": null,
   "id": "a50d0624-232b-4a03-b033-5507cfad9686",
   "metadata": {},
   "outputs": [],
   "source": []
  }
 ],
 "metadata": {
  "kernelspec": {
   "display_name": "Python 3 (ipykernel)",
   "language": "python",
   "name": "python3"
  },
  "language_info": {
   "codemirror_mode": {
    "name": "ipython",
    "version": 3
   },
   "file_extension": ".py",
   "mimetype": "text/x-python",
   "name": "python",
   "nbconvert_exporter": "python",
   "pygments_lexer": "ipython3",
   "version": "3.12.0"
  }
 },
 "nbformat": 4,
 "nbformat_minor": 5
}
